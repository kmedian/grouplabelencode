{
 "cells": [
  {
   "cell_type": "markdown",
   "metadata": {},
   "source": [
    "# Load Dataset and Mapping"
   ]
  },
  {
   "cell_type": "code",
   "execution_count": 1,
   "metadata": {},
   "outputs": [],
   "source": [
    "import numpy as np\n",
    "data = np.genfromtxt('data.csv',dtype='str')\n",
    "mapping = [['a', 'b'], 'c', ['d', 'e', 'f']]"
   ]
  },
  {
   "cell_type": "code",
   "execution_count": 2,
   "metadata": {},
   "outputs": [
    {
     "name": "stdout",
     "output_type": "stream",
     "text": [
      "0 ['a', 'b']\n",
      "1 c\n",
      "2 ['d', 'e', 'f']\n"
     ]
    }
   ],
   "source": [
    "for idx, c in enumerate(mapping):\n",
    "    print(idx, c)"
   ]
  },
  {
   "cell_type": "markdown",
   "metadata": {},
   "source": [
    "# Current Implementation v0.1.2\n",
    "(Don't rerun after new version)"
   ]
  },
  {
   "cell_type": "code",
   "execution_count": 3,
   "metadata": {},
   "outputs": [],
   "source": [
    "import sys\n",
    "sys.path.append('..')\n",
    "from grouplabelencode import grouplabelencode, grouplabelencode_loop"
   ]
  },
  {
   "cell_type": "code",
   "execution_count": 4,
   "metadata": {},
   "outputs": [
    {
     "name": "stdout",
     "output_type": "stream",
     "text": [
      "2.52 s ± 190 ms per loop (mean ± std. dev. of 7 runs, 1 loop each)\n"
     ]
    }
   ],
   "source": [
    "%timeit encoded = grouplabelencode(data, mapping, nastate=True)"
   ]
  },
  {
   "cell_type": "code",
   "execution_count": 5,
   "metadata": {},
   "outputs": [
    {
     "name": "stdout",
     "output_type": "stream",
     "text": [
      "2.39 s ± 192 ms per loop (mean ± std. dev. of 7 runs, 1 loop each)\n"
     ]
    }
   ],
   "source": [
    "%timeit encoded = grouplabelencode_loop(data, mapping, [0,1,2], 3)"
   ]
  },
  {
   "cell_type": "code",
   "execution_count": 6,
   "metadata": {},
   "outputs": [],
   "source": [
    "enc_old = grouplabelencode_loop(data, mapping, [0,1,2], 3)"
   ]
  },
  {
   "cell_type": "markdown",
   "metadata": {},
   "source": [
    "# New Code"
   ]
  },
  {
   "cell_type": "code",
   "execution_count": 7,
   "metadata": {},
   "outputs": [],
   "source": [
    "def grouplabelencode_loop_new(data: list, mapping: list, encoding: list, nacode: int = None) -> list:\n",
    "    out = []\n",
    "    for label in data:\n",
    "        enc = nacode\n",
    "        for idx, c in enumerate(mapping):\n",
    "            if label in c:\n",
    "                enc = encoding[idx]\n",
    "                break\n",
    "        out.append(enc)\n",
    "    return out\n",
    "\n",
    "def grouplabelencode_new(data: list, mapping: dict, nacode: int = None, nastate: bool = False) -> list:\n",
    "    # What value is used for missing data?\n",
    "    if nastate:\n",
    "        if nacode is None:\n",
    "            nacode = len(mapping)\n",
    "\n",
    "    # Process depending on the data type of the data mapping variable\n",
    "    if isinstance(mapping, list):\n",
    "        m = mapping\n",
    "        e = list(range(len(mapping)))\n",
    "    elif isinstance(mapping, dict):\n",
    "        m = list(mapping.values())\n",
    "        e = list(mapping.keys())\n",
    "    else:\n",
    "        raise Exception(\"'data' must be list-of-list or dict.\")\n",
    "\n",
    "    # Convert scalar elements into a list\n",
    "    m = [[c] if isinstance(c, (str, int, float)) else c for c in m]\n",
    "                                      \n",
    "    # Loop over 'data' array\n",
    "    return grouplabelencode_loop_new(data, m, e, nacode=nacode)"
   ]
  },
  {
   "cell_type": "code",
   "execution_count": 8,
   "metadata": {},
   "outputs": [
    {
     "name": "stdout",
     "output_type": "stream",
     "text": [
      "1.35 s ± 137 ms per loop (mean ± std. dev. of 7 runs, 1 loop each)\n"
     ]
    }
   ],
   "source": [
    "%timeit encoded = grouplabelencode_new(data, mapping, nastate=True)"
   ]
  },
  {
   "cell_type": "code",
   "execution_count": 9,
   "metadata": {},
   "outputs": [
    {
     "name": "stdout",
     "output_type": "stream",
     "text": [
      "1.62 s ± 288 ms per loop (mean ± std. dev. of 7 runs, 1 loop each)\n"
     ]
    }
   ],
   "source": [
    "%timeit encoded = grouplabelencode_loop_new(data, mapping, [0,1,2], 3)"
   ]
  },
  {
   "cell_type": "code",
   "execution_count": 10,
   "metadata": {},
   "outputs": [
    {
     "data": {
      "text/plain": [
       "True"
      ]
     },
     "execution_count": 10,
     "metadata": {},
     "output_type": "execute_result"
    }
   ],
   "source": [
    "enc_new = grouplabelencode_loop_new(data, mapping, [0,1,2], 3)\n",
    "(np.array(enc_new) == np.array(enc_old)).all()"
   ]
  }
 ],
 "metadata": {
  "kernelspec": {
   "display_name": "Python 3",
   "language": "python",
   "name": "python3"
  },
  "language_info": {
   "codemirror_mode": {
    "name": "ipython",
    "version": 3
   },
   "file_extension": ".py",
   "mimetype": "text/x-python",
   "name": "python",
   "nbconvert_exporter": "python",
   "pygments_lexer": "ipython3",
   "version": "3.7.5"
  }
 },
 "nbformat": 4,
 "nbformat_minor": 4
}
